{
 "cells": [
  {
   "cell_type": "markdown",
   "id": "57fc5037",
   "metadata": {},
   "source": [
    "# Week 2 notes\n",
    "## Sep 9 Mon Lec"
   ]
  },
  {
   "cell_type": "markdown",
   "id": "a24c068f",
   "metadata": {},
   "source": [
    "- project assignment on thursday\n",
    "- go through the basic libraies\n",
    "- early start for looking for internship\n",
    "- what is the difference between data analyst, data scienctist, data engineer, ML engineer, ML scientist, AI engineer, AI scientist?\n",
    "- extracurricular project with prof.Gardos\n",
    "    - understand the current and near-term stat of the data science and machine learning job market. define/update job role expectations.\n",
    "    - emails: tgardos@bu.edu\n",
    "\n",
    "\n"
   ]
  },
  {
   "cell_type": "markdown",
   "id": "ca37097a",
   "metadata": {},
   "source": [
    "### Go through Pandas"
   ]
  },
  {
   "cell_type": "markdown",
   "id": "c6996d10",
   "metadata": {},
   "source": [
    "## Sep 10 Won Discussion"
   ]
  },
  {
   "cell_type": "markdown",
   "id": "a51357e7",
   "metadata": {},
   "source": [
    "- use lambda function for a quick use \n",
    "- use group,groupby as a dataframe condition\n",
    "- `axes[0, 0].hist(iris['petal_length'], bins=15, alpha=0.7, edgecolor='black', color='skyblue')`\n",
    "get the info (head(5)) for each kind in a column \n"
   ]
  },
  {
   "cell_type": "markdown",
   "id": "5bf0a63d",
   "metadata": {},
   "source": [
    "## Sep 11 Thu Lec"
   ]
  },
  {
   "cell_type": "markdown",
   "id": "b22662a9",
   "metadata": {},
   "source": [
    "- team project assignment: Campaign Zero: 911 Call Data Patterns(team a)\n",
    "### project lifecircle:\n",
    "- defined phased unsure rigor in the process"
   ]
  },
  {
   "cell_type": "markdown",
   "id": "ab5b79cc",
   "metadata": {},
   "source": [
    "- EDA stands for Exploratory Data Analysis.\n"
   ]
  },
  {
   "cell_type": "markdown",
   "id": "2e676527",
   "metadata": {},
   "source": [
    "### Scikit-Learn"
   ]
  },
  {
   "cell_type": "markdown",
   "id": "c15e839b",
   "metadata": {},
   "source": [
    "```\n",
    "# Scale the data \n",
    "scaler = StandardScaler()\n",
    "X_train = scaler.fit_transform(X_train)\n",
    "X_test = scaler.transform(X_test)\n",
    "```\n",
    "# why use transform here?????\n"
   ]
  },
  {
   "cell_type": "markdown",
   "id": "a3613c2a",
   "metadata": {},
   "source": [
    "2"
   ]
  }
 ],
 "metadata": {
  "kernelspec": {
   "display_name": "DS701",
   "language": "python",
   "name": "python3"
  },
  "language_info": {
   "codemirror_mode": {
    "name": "ipython",
    "version": 3
   },
   "file_extension": ".py",
   "mimetype": "text/x-python",
   "name": "python",
   "nbconvert_exporter": "python",
   "pygments_lexer": "ipython3",
   "version": "3.11.13"
  }
 },
 "nbformat": 4,
 "nbformat_minor": 5
}
