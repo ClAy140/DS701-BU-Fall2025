{
  "cells": [
    {
      "cell_type": "markdown",
      "metadata": {
        "id": "FDI78IW_Mzpq"
      },
      "source": [
        "---\n",
        "title: 'Essential Tools: Pandas'\n",
        "jupyter: python3\n",
        "code-fold: false\n",
        "---\n",
        "\n",
        "::: {.content-visible when-profile=\"web\"}\n",
        "## Introduction\n",
        "\n",
        "[![](https://colab.research.google.com/assets/colab-badge.svg)](https://colab.research.google.com/github/tools4ds/DS701-Course-Notes/blob/main/ds701_book/jupyter_notebooks/02B-Pandas.ipynb)\n",
        "\n",
        "In this lecture we discuss one of most useful Python packages for data\n",
        "science -- Pandas.\n",
        "\n",
        "We'll touch on some highlights here, but to learn more, start with the\n",
        "[Pandas Getting started tutorials](https://pandas.pydata.org/docs/getting_started/intro_tutorials/index.html)\n",
        ":::\n",
        "\n",
        "## Pandas\n",
        "\n",
        "::: {.incremental}\n",
        "\n",
        "- [Pandas](https://pandas.pydata.org/docs/index.html) is a Python library for data\n",
        "manipulation and analysis with an emphasis on tabular data.\n",
        "- It can be used to produce high quality plots and integrates nicely with other\n",
        "  libraries that expect NumPy arrays.\n",
        "- Knowledge and use of Pandas is essential as a data scientist.\n",
        ":::\n",
        "\n",
        ":::: {.fragment}\n",
        "The most important data structure provided by Pandas is the `DataFrame`\n",
        "implemented in the\n",
        "[DataFrame](https://pandas.pydata.org/docs/reference/frame.html) class.\n",
        "::::\n",
        "\n",
        ":::: {.fragment}\n",
        "Unlike a numpy array, a `DataFrame` can have columns of different types.\n",
        "::::\n",
        "\n",
        ":::: {.fragment}\n",
        "Make it a habit that when you're given a tabular dataset, load it into a `DataFrame`.\n",
        "::::\n",
        "\n",
        "## Fetching, storing and retrieving your data\n",
        "\n",
        "We'll work with stock data. A popular python package for this is `yfinance`, but\n",
        "there seems to be some access rate limits which make it more difficult to use.\n",
        "\n",
        "Instead we'll manually download a CSV file:\n",
        "\n",
        "    MANUAL DOWNLOAD FROM WALL STREET JOURNAL:\n",
        "    \n",
        "    1. Go to: https://www.wsj.com/market-data/quotes/NVDA/historical-prices\n",
        "    2. Set date range: January 1, 2024 to December 31, 2024\n",
        "    3. Click \"Download\" button\n",
        "    4. Save the CSV file\n",
        "    5. Load in Python:"
      ]
    },
    {
      "cell_type": "code",
      "execution_count": 1,
      "metadata": {
        "id": "Z9_-1GQcMzpr"
      },
      "outputs": [],
      "source": [
        "import pandas as pd\n",
        "\n",
        "try:\n",
        "    nvidia_stocks = pd.read_csv('data/stocks/nvidia_stock_2024.csv', index_col=0)\n",
        "except FileNotFoundError:\n",
        "    url = 'https://raw.githubusercontent.com/tools4ds/DS701-Course-Notes/main/ds701_book/data/stocks/nvidia_stock_2024.csv'\n",
        "    nvidia_stocks = pd.read_csv(url, index_col=0)\n",
        "\n",
        "nvidia_stocks = nvidia_stocks.sort_index()"
      ]
    },
    {
      "cell_type": "markdown",
      "metadata": {
        "id": "dXcqupsFMzps"
      },
      "source": [
        "---\n",
        "\n",
        "It's important to inspect the data you are working with and Pandas provides a\n",
        "variety of methods to do so such as `.head()`, `.tail()`, `.info()`,\n",
        "`.describe()`, etc."
      ]
    },
    {
      "cell_type": "code",
      "execution_count": 2,
      "metadata": {
        "id": "ZPYVDrUdMzps"
      },
      "outputs": [
        {
          "data": {
            "text/html": [
              "<div>\n",
              "<style scoped>\n",
              "    .dataframe tbody tr th:only-of-type {\n",
              "        vertical-align: middle;\n",
              "    }\n",
              "\n",
              "    .dataframe tbody tr th {\n",
              "        vertical-align: top;\n",
              "    }\n",
              "\n",
              "    .dataframe thead th {\n",
              "        text-align: right;\n",
              "    }\n",
              "</style>\n",
              "<table border=\"1\" class=\"dataframe\">\n",
              "  <thead>\n",
              "    <tr style=\"text-align: right;\">\n",
              "      <th></th>\n",
              "      <th>Open</th>\n",
              "      <th>High</th>\n",
              "      <th>Low</th>\n",
              "      <th>Close</th>\n",
              "      <th>Volume</th>\n",
              "    </tr>\n",
              "    <tr>\n",
              "      <th>Date</th>\n",
              "      <th></th>\n",
              "      <th></th>\n",
              "      <th></th>\n",
              "      <th></th>\n",
              "      <th></th>\n",
              "    </tr>\n",
              "  </thead>\n",
              "  <tbody>\n",
              "    <tr>\n",
              "      <th>01/02/24</th>\n",
              "      <td>49.244</td>\n",
              "      <td>49.2950</td>\n",
              "      <td>47.595</td>\n",
              "      <td>48.168</td>\n",
              "      <td>4.112542e+08</td>\n",
              "    </tr>\n",
              "    <tr>\n",
              "      <th>01/03/24</th>\n",
              "      <td>47.485</td>\n",
              "      <td>48.1841</td>\n",
              "      <td>47.320</td>\n",
              "      <td>47.569</td>\n",
              "      <td>3.208962e+08</td>\n",
              "    </tr>\n",
              "    <tr>\n",
              "      <th>01/04/24</th>\n",
              "      <td>47.767</td>\n",
              "      <td>48.5000</td>\n",
              "      <td>47.508</td>\n",
              "      <td>47.998</td>\n",
              "      <td>3.065349e+08</td>\n",
              "    </tr>\n",
              "    <tr>\n",
              "      <th>01/05/24</th>\n",
              "      <td>48.462</td>\n",
              "      <td>49.5470</td>\n",
              "      <td>48.306</td>\n",
              "      <td>49.097</td>\n",
              "      <td>4.150393e+08</td>\n",
              "    </tr>\n",
              "    <tr>\n",
              "      <th>01/08/24</th>\n",
              "      <td>49.512</td>\n",
              "      <td>52.2750</td>\n",
              "      <td>49.479</td>\n",
              "      <td>52.253</td>\n",
              "      <td>6.425099e+08</td>\n",
              "    </tr>\n",
              "  </tbody>\n",
              "</table>\n",
              "</div>"
            ],
            "text/plain": [
              "            Open     High     Low   Close        Volume\n",
              "Date                                                   \n",
              "01/02/24  49.244  49.2950  47.595  48.168  4.112542e+08\n",
              "01/03/24  47.485  48.1841  47.320  47.569  3.208962e+08\n",
              "01/04/24  47.767  48.5000  47.508  47.998  3.065349e+08\n",
              "01/05/24  48.462  49.5470  48.306  49.097  4.150393e+08\n",
              "01/08/24  49.512  52.2750  49.479  52.253  6.425099e+08"
            ]
          },
          "execution_count": 2,
          "metadata": {},
          "output_type": "execute_result"
        }
      ],
      "source": [
        "#| code-fold: false\n",
        "nvidia_stocks.head()"
      ]
    },
    {
      "cell_type": "markdown",
      "metadata": {
        "id": "aM0ZaU8eMzps"
      },
      "source": [
        "Notice how each row has a label and each column has a label.\n",
        "\n",
        "---\n",
        "\n",
        "A DataFrame is a python object that has many associated methods to explore and\n",
        "manipulate the data.\n",
        "\n",
        "The method `.info()` gives you a description of the dataframe."
      ]
    },
    {
      "cell_type": "code",
      "execution_count": 3,
      "metadata": {
        "id": "8UlQInABMzps"
      },
      "outputs": [
        {
          "name": "stdout",
          "output_type": "stream",
          "text": [
            "<class 'pandas.core.frame.DataFrame'>\n",
            "Index: 252 entries, 01/02/24 to 12/31/24\n",
            "Data columns (total 5 columns):\n",
            " #   Column  Non-Null Count  Dtype  \n",
            "---  ------  --------------  -----  \n",
            " 0   Open    252 non-null    float64\n",
            " 1   High    252 non-null    float64\n",
            " 2   Low     252 non-null    float64\n",
            " 3   Close   252 non-null    float64\n",
            " 4   Volume  252 non-null    float64\n",
            "dtypes: float64(5)\n",
            "memory usage: 11.8+ KB\n"
          ]
        }
      ],
      "source": [
        "nvidia_stocks.info()"
      ]
    },
    {
      "cell_type": "markdown",
      "metadata": {
        "id": "wm9Fkrn7Mzps"
      },
      "source": [
        "---\n",
        "\n",
        "The method `.describe()` gives you summary statistics of the dataframe."
      ]
    },
    {
      "cell_type": "code",
      "execution_count": 4,
      "metadata": {
        "id": "0Ik5Vkd6Mzpt"
      },
      "outputs": [
        {
          "data": {
            "text/html": [
              "<div>\n",
              "<style scoped>\n",
              "    .dataframe tbody tr th:only-of-type {\n",
              "        vertical-align: middle;\n",
              "    }\n",
              "\n",
              "    .dataframe tbody tr th {\n",
              "        vertical-align: top;\n",
              "    }\n",
              "\n",
              "    .dataframe thead th {\n",
              "        text-align: right;\n",
              "    }\n",
              "</style>\n",
              "<table border=\"1\" class=\"dataframe\">\n",
              "  <thead>\n",
              "    <tr style=\"text-align: right;\">\n",
              "      <th></th>\n",
              "      <th>Open</th>\n",
              "      <th>High</th>\n",
              "      <th>Low</th>\n",
              "      <th>Close</th>\n",
              "      <th>Volume</th>\n",
              "    </tr>\n",
              "  </thead>\n",
              "  <tbody>\n",
              "    <tr>\n",
              "      <th>count</th>\n",
              "      <td>252.000000</td>\n",
              "      <td>252.000000</td>\n",
              "      <td>252.000000</td>\n",
              "      <td>252.000000</td>\n",
              "      <td>2.520000e+02</td>\n",
              "    </tr>\n",
              "    <tr>\n",
              "      <th>mean</th>\n",
              "      <td>107.899121</td>\n",
              "      <td>109.852719</td>\n",
              "      <td>105.631198</td>\n",
              "      <td>107.825438</td>\n",
              "      <td>3.773571e+08</td>\n",
              "    </tr>\n",
              "    <tr>\n",
              "      <th>std</th>\n",
              "      <td>27.145281</td>\n",
              "      <td>27.437677</td>\n",
              "      <td>26.575767</td>\n",
              "      <td>26.957320</td>\n",
              "      <td>1.618595e+08</td>\n",
              "    </tr>\n",
              "    <tr>\n",
              "      <th>min</th>\n",
              "      <td>47.485000</td>\n",
              "      <td>48.184100</td>\n",
              "      <td>47.320000</td>\n",
              "      <td>47.569000</td>\n",
              "      <td>1.051570e+08</td>\n",
              "    </tr>\n",
              "    <tr>\n",
              "      <th>25%</th>\n",
              "      <td>87.740500</td>\n",
              "      <td>89.479750</td>\n",
              "      <td>86.128550</td>\n",
              "      <td>87.751500</td>\n",
              "      <td>2.498443e+08</td>\n",
              "    </tr>\n",
              "    <tr>\n",
              "      <th>50%</th>\n",
              "      <td>115.950000</td>\n",
              "      <td>117.090000</td>\n",
              "      <td>111.791500</td>\n",
              "      <td>115.295000</td>\n",
              "      <td>3.508633e+08</td>\n",
              "    </tr>\n",
              "    <tr>\n",
              "      <th>75%</th>\n",
              "      <td>130.282500</td>\n",
              "      <td>133.542500</td>\n",
              "      <td>128.235000</td>\n",
              "      <td>130.462500</td>\n",
              "      <td>4.752442e+08</td>\n",
              "    </tr>\n",
              "    <tr>\n",
              "      <th>max</th>\n",
              "      <td>149.350000</td>\n",
              "      <td>152.890000</td>\n",
              "      <td>146.260000</td>\n",
              "      <td>148.880000</td>\n",
              "      <td>1.142269e+09</td>\n",
              "    </tr>\n",
              "  </tbody>\n",
              "</table>\n",
              "</div>"
            ],
            "text/plain": [
              "             Open        High         Low       Close        Volume\n",
              "count  252.000000  252.000000  252.000000  252.000000  2.520000e+02\n",
              "mean   107.899121  109.852719  105.631198  107.825438  3.773571e+08\n",
              "std     27.145281   27.437677   26.575767   26.957320  1.618595e+08\n",
              "min     47.485000   48.184100   47.320000   47.569000  1.051570e+08\n",
              "25%     87.740500   89.479750   86.128550   87.751500  2.498443e+08\n",
              "50%    115.950000  117.090000  111.791500  115.295000  3.508633e+08\n",
              "75%    130.282500  133.542500  128.235000  130.462500  4.752442e+08\n",
              "max    149.350000  152.890000  146.260000  148.880000  1.142269e+09"
            ]
          },
          "execution_count": 4,
          "metadata": {},
          "output_type": "execute_result"
        }
      ],
      "source": [
        "nvidia_stocks.describe()"
      ]
    },
    {
      "cell_type": "markdown",
      "metadata": {
        "id": "-7sBnELDMzpt"
      },
      "source": [
        "## Writing/Reading to/from a ``.csv`` file\n",
        "\n",
        "Pandas can read and write dataframes with many file formats such as `.csv`, `.json`, `.parquet`,\n",
        "`.xlsx`, `.html`, `SQL`, etc.\n",
        "\n",
        "Here we write the dataframe to a `.csv` file."
      ]
    },
    {
      "cell_type": "code",
      "execution_count": 5,
      "metadata": {
        "id": "ves_tnblMzpt"
      },
      "outputs": [],
      "source": [
        "nvidia_stocks.to_csv('nvidia_data.csv')"
      ]
    },
    {
      "cell_type": "markdown",
      "metadata": {
        "id": "T5Gp-cXrMzpt"
      },
      "source": [
        "We can escape a shell command using the `!` operator to see the top of the file."
      ]
    },
    {
      "cell_type": "code",
      "execution_count": 6,
      "metadata": {
        "id": "brKkRgujMzpt"
      },
      "outputs": [
        {
          "name": "stdout",
          "output_type": "stream",
          "text": [
            "Date,Open,High,Low,Close,Volume\n",
            "01/02/24,49.244,49.295,47.595,48.168,411254215.887458\n",
            "01/03/24,47.485,48.1841,47.32,47.569,320896186.791038\n",
            "01/04/24,47.767,48.5,47.508,47.998,306534876.934651\n",
            "01/05/24,48.462,49.547,48.306,49.097,415039295.849607\n",
            "01/08/24,49.512,52.275,49.479,52.253,642509873.574901\n",
            "01/09/24,52.401,54.325,51.69,53.14,773100072.268999\n",
            "01/10/24,53.616,54.6,53.489,54.35,533795774.662042\n",
            "01/11/24,54.999,55.346,53.56,54.822,596758784.032412\n",
            "01/12/24,54.62,54.97,54.3301,54.71,352993586.470064\n"
          ]
        }
      ],
      "source": [
        "!head nvidia_data.csv"
      ]
    },
    {
      "cell_type": "markdown",
      "metadata": {
        "id": "UFsYAjssMzpt"
      },
      "source": [
        "---\n",
        "\n",
        "And of course we can likewise read a `.csv` file into a dataframe.  This is probably the most common way you will get data into Pandas."
      ]
    },
    {
      "cell_type": "code",
      "execution_count": 7,
      "metadata": {
        "id": "w1eUvUQgMzpt"
      },
      "outputs": [
        {
          "data": {
            "text/html": [
              "<div>\n",
              "<style scoped>\n",
              "    .dataframe tbody tr th:only-of-type {\n",
              "        vertical-align: middle;\n",
              "    }\n",
              "\n",
              "    .dataframe tbody tr th {\n",
              "        vertical-align: top;\n",
              "    }\n",
              "\n",
              "    .dataframe thead th {\n",
              "        text-align: right;\n",
              "    }\n",
              "</style>\n",
              "<table border=\"1\" class=\"dataframe\">\n",
              "  <thead>\n",
              "    <tr style=\"text-align: right;\">\n",
              "      <th></th>\n",
              "      <th>Date</th>\n",
              "      <th>Open</th>\n",
              "      <th>High</th>\n",
              "      <th>Low</th>\n",
              "      <th>Close</th>\n",
              "      <th>Volume</th>\n",
              "    </tr>\n",
              "  </thead>\n",
              "  <tbody>\n",
              "    <tr>\n",
              "      <th>0</th>\n",
              "      <td>01/02/24</td>\n",
              "      <td>49.244</td>\n",
              "      <td>49.2950</td>\n",
              "      <td>47.595</td>\n",
              "      <td>48.168</td>\n",
              "      <td>4.112542e+08</td>\n",
              "    </tr>\n",
              "    <tr>\n",
              "      <th>1</th>\n",
              "      <td>01/03/24</td>\n",
              "      <td>47.485</td>\n",
              "      <td>48.1841</td>\n",
              "      <td>47.320</td>\n",
              "      <td>47.569</td>\n",
              "      <td>3.208962e+08</td>\n",
              "    </tr>\n",
              "    <tr>\n",
              "      <th>2</th>\n",
              "      <td>01/04/24</td>\n",
              "      <td>47.767</td>\n",
              "      <td>48.5000</td>\n",
              "      <td>47.508</td>\n",
              "      <td>47.998</td>\n",
              "      <td>3.065349e+08</td>\n",
              "    </tr>\n",
              "    <tr>\n",
              "      <th>3</th>\n",
              "      <td>01/05/24</td>\n",
              "      <td>48.462</td>\n",
              "      <td>49.5470</td>\n",
              "      <td>48.306</td>\n",
              "      <td>49.097</td>\n",
              "      <td>4.150393e+08</td>\n",
              "    </tr>\n",
              "    <tr>\n",
              "      <th>4</th>\n",
              "      <td>01/08/24</td>\n",
              "      <td>49.512</td>\n",
              "      <td>52.2750</td>\n",
              "      <td>49.479</td>\n",
              "      <td>52.253</td>\n",
              "      <td>6.425099e+08</td>\n",
              "    </tr>\n",
              "  </tbody>\n",
              "</table>\n",
              "</div>"
            ],
            "text/plain": [
              "       Date    Open     High     Low   Close        Volume\n",
              "0  01/02/24  49.244  49.2950  47.595  48.168  4.112542e+08\n",
              "1  01/03/24  47.485  48.1841  47.320  47.569  3.208962e+08\n",
              "2  01/04/24  47.767  48.5000  47.508  47.998  3.065349e+08\n",
              "3  01/05/24  48.462  49.5470  48.306  49.097  4.150393e+08\n",
              "4  01/08/24  49.512  52.2750  49.479  52.253  6.425099e+08"
            ]
          },
          "execution_count": 7,
          "metadata": {},
          "output_type": "execute_result"
        }
      ],
      "source": [
        "df = pd.read_csv('nvidia_data.csv')\n",
        "df.head()"
      ]
    },
    {
      "cell_type": "markdown",
      "metadata": {
        "id": "R5m9sxL_Mzpt"
      },
      "source": [
        "::: {.callout-caution}\n",
        "But be careful, the index column is not automatically set.\n",
        ":::"
      ]
    },
    {
      "cell_type": "code",
      "execution_count": 8,
      "metadata": {
        "id": "gAX8Yka7Mzpt"
      },
      "outputs": [
        {
          "name": "stdout",
          "output_type": "stream",
          "text": [
            "<class 'pandas.core.frame.DataFrame'>\n",
            "RangeIndex: 252 entries, 0 to 251\n",
            "Data columns (total 6 columns):\n",
            " #   Column  Non-Null Count  Dtype  \n",
            "---  ------  --------------  -----  \n",
            " 0   Date    252 non-null    object \n",
            " 1   Open    252 non-null    float64\n",
            " 2   High    252 non-null    float64\n",
            " 3   Low     252 non-null    float64\n",
            " 4   Close   252 non-null    float64\n",
            " 5   Volume  252 non-null    float64\n",
            "dtypes: float64(5), object(1)\n",
            "memory usage: 11.9+ KB\n"
          ]
        }
      ],
      "source": [
        "df.info()"
      ]
    },
    {
      "cell_type": "markdown",
      "metadata": {
        "id": "Qnr-7L6uMzpt"
      },
      "source": [
        "Note the index description.\n",
        "\n",
        "---\n",
        "\n",
        "To set the index column, we can use the `index_col` parameter."
      ]
    },
    {
      "cell_type": "code",
      "execution_count": 9,
      "metadata": {
        "id": "vDpdEdbUMzpt"
      },
      "outputs": [
        {
          "name": "stdout",
          "output_type": "stream",
          "text": [
            "<class 'pandas.core.frame.DataFrame'>\n",
            "Index: 252 entries, 01/02/24 to 12/31/24\n",
            "Data columns (total 5 columns):\n",
            " #   Column  Non-Null Count  Dtype  \n",
            "---  ------  --------------  -----  \n",
            " 0   Open    252 non-null    float64\n",
            " 1   High    252 non-null    float64\n",
            " 2   Low     252 non-null    float64\n",
            " 3   Close   252 non-null    float64\n",
            " 4   Volume  252 non-null    float64\n",
            "dtypes: float64(5)\n",
            "memory usage: 11.8+ KB\n"
          ]
        }
      ],
      "source": [
        "df = pd.read_csv('nvidia_data.csv', index_col=0)\n",
        "df.info()"
      ]
    },
    {
      "cell_type": "markdown",
      "metadata": {
        "id": "oLfoTC8yMzpu"
      },
      "source": [
        "## Working with data columns\n",
        "\n",
        "In general, we'll typically describe the rows in the dataframe as **items**\n",
        "(or **observations** or **data samples**) and the columns as **features**."
      ]
    },
    {
      "cell_type": "code",
      "execution_count": 10,
      "metadata": {
        "id": "LTWylylzMzpu"
      },
      "outputs": [
        {
          "data": {
            "text/plain": [
              "Index(['Open', 'High', 'Low', 'Close', 'Volume'], dtype='object')"
            ]
          },
          "execution_count": 10,
          "metadata": {},
          "output_type": "execute_result"
        }
      ],
      "source": [
        "df.columns"
      ]
    },
    {
      "cell_type": "markdown",
      "metadata": {
        "id": "ynsKzvmoMzpu"
      },
      "source": [
        "Pandas allows you to reference a column similar to a python dictionary key,\n",
        "using column names in square brackets."
      ]
    },
    {
      "cell_type": "code",
      "execution_count": 11,
      "metadata": {
        "id": "aDFIS5dbMzpu"
      },
      "outputs": [
        {
          "data": {
            "text/plain": [
              "Date\n",
              "01/02/24     49.244\n",
              "01/03/24     47.485\n",
              "01/04/24     47.767\n",
              "01/05/24     48.462\n",
              "01/08/24     49.512\n",
              "             ...   \n",
              "12/24/24    140.000\n",
              "12/26/24    139.700\n",
              "12/27/24    138.550\n",
              "12/30/24    134.830\n",
              "12/31/24    138.030\n",
              "Name: Open, Length: 252, dtype: float64"
            ]
          },
          "execution_count": 11,
          "metadata": {},
          "output_type": "execute_result"
        }
      ],
      "source": [
        "df['Open']"
      ]
    },
    {
      "cell_type": "markdown",
      "metadata": {
        "id": "HGJYPFp8Mzpu"
      },
      "source": [
        "Note that this returns a `Series` object, the other fundamental data structure in Pandas."
      ]
    },
    {
      "cell_type": "code",
      "execution_count": 12,
      "metadata": {
        "id": "dm2vz08ZMzpu"
      },
      "outputs": [
        {
          "data": {
            "text/plain": [
              "pandas.core.series.Series"
            ]
          },
          "execution_count": 12,
          "metadata": {},
          "output_type": "execute_result"
        }
      ],
      "source": [
        "type(df['Open'])"
      ]
    },
    {
      "cell_type": "markdown",
      "metadata": {
        "id": "fKrecIguMzpu"
      },
      "source": [
        "Also note that Series is indexed in this case by dates rather than simple integers.\n",
        "\n",
        "---\n",
        "\n",
        "Pandas also allows you to refer to columns using an object attribute syntax.\n",
        "\n",
        "Note that the column name cannot include a space in this case."
      ]
    },
    {
      "cell_type": "code",
      "execution_count": 13,
      "metadata": {
        "id": "KJJZ0A1CMzpu"
      },
      "outputs": [
        {
          "data": {
            "text/plain": [
              "Date\n",
              "01/02/24     49.244\n",
              "01/03/24     47.485\n",
              "01/04/24     47.767\n",
              "01/05/24     48.462\n",
              "01/08/24     49.512\n",
              "             ...   \n",
              "12/24/24    140.000\n",
              "12/26/24    139.700\n",
              "12/27/24    138.550\n",
              "12/30/24    134.830\n",
              "12/31/24    138.030\n",
              "Name: Open, Length: 252, dtype: float64"
            ]
          },
          "execution_count": 13,
          "metadata": {},
          "output_type": "execute_result"
        }
      ],
      "source": [
        "df.Open"
      ]
    },
    {
      "cell_type": "markdown",
      "metadata": {
        "id": "Env0lP1AMzpu"
      },
      "source": [
        "---\n",
        "\n",
        "You can select a list of columns:"
      ]
    },
    {
      "cell_type": "code",
      "execution_count": 14,
      "metadata": {
        "id": "jS0rh74XMzpu"
      },
      "outputs": [
        {
          "data": {
            "text/html": [
              "<div>\n",
              "<style scoped>\n",
              "    .dataframe tbody tr th:only-of-type {\n",
              "        vertical-align: middle;\n",
              "    }\n",
              "\n",
              "    .dataframe tbody tr th {\n",
              "        vertical-align: top;\n",
              "    }\n",
              "\n",
              "    .dataframe thead th {\n",
              "        text-align: right;\n",
              "    }\n",
              "</style>\n",
              "<table border=\"1\" class=\"dataframe\">\n",
              "  <thead>\n",
              "    <tr style=\"text-align: right;\">\n",
              "      <th></th>\n",
              "      <th>Open</th>\n",
              "      <th>Close</th>\n",
              "    </tr>\n",
              "    <tr>\n",
              "      <th>Date</th>\n",
              "      <th></th>\n",
              "      <th></th>\n",
              "    </tr>\n",
              "  </thead>\n",
              "  <tbody>\n",
              "    <tr>\n",
              "      <th>01/02/24</th>\n",
              "      <td>49.244</td>\n",
              "      <td>48.168</td>\n",
              "    </tr>\n",
              "    <tr>\n",
              "      <th>01/03/24</th>\n",
              "      <td>47.485</td>\n",
              "      <td>47.569</td>\n",
              "    </tr>\n",
              "    <tr>\n",
              "      <th>01/04/24</th>\n",
              "      <td>47.767</td>\n",
              "      <td>47.998</td>\n",
              "    </tr>\n",
              "    <tr>\n",
              "      <th>01/05/24</th>\n",
              "      <td>48.462</td>\n",
              "      <td>49.097</td>\n",
              "    </tr>\n",
              "    <tr>\n",
              "      <th>01/08/24</th>\n",
              "      <td>49.512</td>\n",
              "      <td>52.253</td>\n",
              "    </tr>\n",
              "  </tbody>\n",
              "</table>\n",
              "</div>"
            ],
            "text/plain": [
              "            Open   Close\n",
              "Date                    \n",
              "01/02/24  49.244  48.168\n",
              "01/03/24  47.485  47.569\n",
              "01/04/24  47.767  47.998\n",
              "01/05/24  48.462  49.097\n",
              "01/08/24  49.512  52.253"
            ]
          },
          "execution_count": 14,
          "metadata": {},
          "output_type": "execute_result"
        }
      ],
      "source": [
        "df[['Open', 'Close']].head()"
      ]
    },
    {
      "cell_type": "markdown",
      "metadata": {
        "id": "NyOpKuwWMzpu"
      },
      "source": [
        "Which is just another dataframe, which is why we can chain the `.head()` method."
      ]
    },
    {
      "cell_type": "code",
      "execution_count": 15,
      "metadata": {
        "id": "lFW92Z9NMzpu"
      },
      "outputs": [
        {
          "data": {
            "text/plain": [
              "pandas.core.frame.DataFrame"
            ]
          },
          "execution_count": 15,
          "metadata": {},
          "output_type": "execute_result"
        }
      ],
      "source": [
        "type(df[['Open', 'Close']])"
      ]
    },
    {
      "cell_type": "markdown",
      "metadata": {
        "id": "QnpOWENjMzpu"
      },
      "source": [
        "---\n",
        "\n",
        "Changing column names is as simple as assigning to the `.columns` property.\n",
        "\n",
        "Let's adjust the column names to remove spaces."
      ]
    },
    {
      "cell_type": "code",
      "execution_count": 16,
      "metadata": {
        "id": "XdC2tvNdMzpu"
      },
      "outputs": [
        {
          "name": "stdout",
          "output_type": "stream",
          "text": [
            "<class 'pandas.core.frame.DataFrame'>\n",
            "Index: 252 entries, 01/02/24 to 12/31/24\n",
            "Data columns (total 5 columns):\n",
            " #   Column  Non-Null Count  Dtype  \n",
            "---  ------  --------------  -----  \n",
            " 0   open    252 non-null    float64\n",
            " 1   high    252 non-null    float64\n",
            " 2   low     252 non-null    float64\n",
            " 3   close   252 non-null    float64\n",
            " 4   volume  252 non-null    float64\n",
            "dtypes: float64(5)\n",
            "memory usage: 19.9+ KB\n"
          ]
        }
      ],
      "source": [
        "new_column_names = [x.lower().replace(' ', '_') for x in df.columns]\n",
        "df.columns = new_column_names\n",
        "df.info()"
      ]
    },
    {
      "cell_type": "markdown",
      "metadata": {
        "id": "E4VPzm07Mzpu"
      },
      "source": [
        "Observe that we first created a list of column names without spaces using __list comprehension__. This is the pythonic way to generate a new list.\n",
        "\n",
        "Now **all** columns can be accessed using the **dot** notation.\n",
        "\n",
        "\n",
        "## A sampling of DataFrame methods.\n",
        "\n",
        "There are many useful methods in the DataFrame object. It is important to\n",
        "familiarize yourself with these methods.\n",
        "\n",
        "The following methods calculate the mean, standard deviation, and median of the specified numeric columns."
      ]
    },
    {
      "cell_type": "code",
      "execution_count": 17,
      "metadata": {
        "id": "R1KDmDPGMzpu"
      },
      "outputs": [
        {
          "data": {
            "text/plain": [
              "open      1.078991e+02\n",
              "high      1.098527e+02\n",
              "low       1.056312e+02\n",
              "close     1.078254e+02\n",
              "volume    3.773571e+08\n",
              "dtype: float64"
            ]
          },
          "execution_count": 17,
          "metadata": {},
          "output_type": "execute_result"
        }
      ],
      "source": [
        "df.mean()"
      ]
    },
    {
      "cell_type": "markdown",
      "metadata": {
        "id": "IQHADyzPMzpu"
      },
      "source": [
        "or we can give a list of columns to the Dataframe object:"
      ]
    },
    {
      "cell_type": "code",
      "execution_count": 18,
      "metadata": {
        "id": "SeAJjryjMzpu"
      },
      "outputs": [
        {
          "data": {
            "text/plain": [
              "open      1.078991e+02\n",
              "close     1.078254e+02\n",
              "volume    3.773571e+08\n",
              "dtype: float64"
            ]
          },
          "execution_count": 18,
          "metadata": {},
          "output_type": "execute_result"
        }
      ],
      "source": [
        "df[['open', 'close', 'volume']].mean()"
      ]
    },
    {
      "cell_type": "code",
      "execution_count": 19,
      "metadata": {
        "id": "aU5nOAcoMzpu"
      },
      "outputs": [
        {
          "data": {
            "text/plain": [
              "open      2.714528e+01\n",
              "high      2.743768e+01\n",
              "low       2.657577e+01\n",
              "close     2.695732e+01\n",
              "volume    1.618595e+08\n",
              "dtype: float64"
            ]
          },
          "execution_count": 19,
          "metadata": {},
          "output_type": "execute_result"
        }
      ],
      "source": [
        "df.std()"
      ]
    },
    {
      "cell_type": "code",
      "execution_count": 20,
      "metadata": {
        "id": "lU2BOQ04Mzpu"
      },
      "outputs": [
        {
          "data": {
            "text/plain": [
              "open      1.159500e+02\n",
              "high      1.170900e+02\n",
              "low       1.117915e+02\n",
              "close     1.152950e+02\n",
              "volume    3.508633e+08\n",
              "dtype: float64"
            ]
          },
          "execution_count": 20,
          "metadata": {},
          "output_type": "execute_result"
        }
      ],
      "source": [
        "df.median()"
      ]
    },
    {
      "cell_type": "markdown",
      "metadata": {
        "id": "gR9kdiVtMzpu"
      },
      "source": [
        "Or apply the method to a single column:"
      ]
    },
    {
      "cell_type": "code",
      "execution_count": 21,
      "metadata": {
        "id": "7FETIN4qMzp2"
      },
      "outputs": [
        {
          "data": {
            "text/plain": [
              "107.89912063492064"
            ]
          },
          "execution_count": 21,
          "metadata": {},
          "output_type": "execute_result"
        }
      ],
      "source": [
        "df.open.mean()"
      ]
    },
    {
      "cell_type": "code",
      "execution_count": 22,
      "metadata": {
        "id": "FFnYIdcvMzp2"
      },
      "outputs": [
        {
          "data": {
            "text/plain": [
              "109.85271904761905"
            ]
          },
          "execution_count": 22,
          "metadata": {},
          "output_type": "execute_result"
        }
      ],
      "source": [
        "df.high.mean()"
      ]
    },
    {
      "cell_type": "markdown",
      "metadata": {
        "id": "p79vX1E7Mzp2"
      },
      "source": [
        "## Plotting methods\n",
        "\n",
        "Pandas also wraps `matplotlib` and provides a variety of easy-to-use plotting\n",
        "functions directly from the dataframe object.\n",
        "\n",
        "These are your \"first look\" functions and useful in exploratory data analysis.\n",
        "\n",
        "Later, we will use more specialized graphics packages to create more\n",
        "sophisticated visualizations."
      ]
    },
    {
      "cell_type": "code",
      "execution_count": 23,
      "metadata": {
        "id": "OD25VqPkMzp2"
      },
      "outputs": [
        {
          "data": {
            "image/png": "[encoded data removed]",
            "text/plain": [
              "<Figure size 640x480 with 1 Axes>"
            ]
          },
          "metadata": {},
          "output_type": "display_data"
        }
      ],
      "source": [
        "import matplotlib.pyplot as plt\n",
        "\n",
        "df.high.plot(label='High')\n",
        "df.low.plot(label='Low')\n",
        "plt.title('NVIDIA Stock Price')\n",
        "plt.ylabel('Dollars')\n",
        "plt.legend(loc='best')\n",
        "plt.show()"
      ]
    },
    {
      "cell_type": "markdown",
      "metadata": {
        "id": "Dv8M2j8FMzp2"
      },
      "source": [
        "---\n",
        "\n",
        "Or a histogram on the adjusted closing price."
      ]
    },
    {
      "cell_type": "code",
      "execution_count": 24,
      "metadata": {
        "id": "tchvclbHMzp2"
      },
      "outputs": [
        {
          "data": {
            "image/png": "[encoded data removed]",
            "text/plain": [
              "<Figure size 640x480 with 1 Axes>"
            ]
          },
          "metadata": {},
          "output_type": "display_data"
        }
      ],
      "source": [
        "df.close.hist()\n",
        "plt.xlabel('Closing Price')\n",
        "plt.ylabel('Dollars')\n",
        "plt.title('NVIDIA Stock Price')\n",
        "plt.show()"
      ]
    },
    {
      "cell_type": "markdown",
      "metadata": {
        "id": "YwGr0Qg1Mzp2"
      },
      "source": [
        "## Accessing rows of the DataFrame\n",
        "\n",
        "So far we've seen how to access a column of the DataFrame. To access a row we use different syntax.\n",
        "\n",
        "To access a row by its index label, use the **`.loc()`** method ('location')."
      ]
    },
    {
      "cell_type": "code",
      "execution_count": 25,
      "metadata": {
        "id": "IrMwg5jXMzp2"
      },
      "outputs": [
        {
          "data": {
            "text/plain": [
              "open      4.924400e+01\n",
              "high      4.929500e+01\n",
              "low       4.759500e+01\n",
              "close     4.816800e+01\n",
              "volume    4.112542e+08\n",
              "Name: 01/02/24, dtype: float64"
            ]
          },
          "execution_count": 25,
          "metadata": {},
          "output_type": "execute_result"
        }
      ],
      "source": [
        "df.loc['01/02/24']"
      ]
    },
    {
      "cell_type": "markdown",
      "metadata": {
        "id": "BAOez87oMzp2"
      },
      "source": [
        "As a tangent, we can use the `.apply()` method to format the output."
      ]
    },
    {
      "cell_type": "code",
      "execution_count": 26,
      "metadata": {
        "id": "ORV1nDEOMzp2"
      },
      "outputs": [
        {
          "data": {
            "text/plain": [
              "open               49.24\n",
              "high               49.30\n",
              "low                47.59\n",
              "close              48.17\n",
              "volume    411,254,215.89\n",
              "Name: 01/02/24, dtype: object"
            ]
          },
          "execution_count": 26,
          "metadata": {},
          "output_type": "execute_result"
        }
      ],
      "source": [
        "df.loc['01/02/24'].apply(lambda x: '{:,.2f}'.format(x) if isinstance(x, (int, float)) else x)"
      ]
    },
    {
      "cell_type": "markdown",
      "metadata": {
        "id": "GYKuYLKfMzp2"
      },
      "source": [
        "---\n",
        "\n",
        "To access a row by its index number (i.e., like an array index), use **`.iloc()`** ('integer location')"
      ]
    },
    {
      "cell_type": "code",
      "execution_count": 27,
      "metadata": {
        "id": "wupIhO0yMzp2"
      },
      "outputs": [
        {
          "data": {
            "text/plain": [
              "open      4.924400e+01\n",
              "high      4.929500e+01\n",
              "low       4.759500e+01\n",
              "close     4.816800e+01\n",
              "volume    4.112542e+08\n",
              "Name: 01/02/24, dtype: float64"
            ]
          },
          "execution_count": 27,
          "metadata": {},
          "output_type": "execute_result"
        }
      ],
      "source": [
        "df.iloc[0, :]"
      ]
    },
    {
      "cell_type": "markdown",
      "metadata": {
        "id": "ltglSXuiMzp2"
      },
      "source": [
        "and similarly formatted:"
      ]
    },
    {
      "cell_type": "code",
      "execution_count": 28,
      "metadata": {
        "id": "TG3gM2bdMzp3"
      },
      "outputs": [
        {
          "data": {
            "text/plain": [
              "open               49.24\n",
              "high               49.30\n",
              "low                47.59\n",
              "close              48.17\n",
              "volume    411,254,215.89\n",
              "Name: 01/02/24, dtype: object"
            ]
          },
          "execution_count": 28,
          "metadata": {},
          "output_type": "execute_result"
        }
      ],
      "source": [
        "df.iloc[0, :].apply(lambda x: '{:,.2f}'.format(x) if isinstance(x, (int, float)) else x)"
      ]
    },
    {
      "cell_type": "markdown",
      "metadata": {
        "id": "Qp3HOeD9Mzp3"
      },
      "source": [
        "---\n",
        "\n",
        "To iterate over the rows you can use **`.iterrows()`**."
      ]
    },
    {
      "cell_type": "code",
      "execution_count": 29,
      "metadata": {
        "id": "HDilG_wiMzp3"
      },
      "outputs": [
        {
          "name": "stdout",
          "output_type": "stream",
          "text": [
            "The total number of positive-gain days is 134 out of 252 days or as percentage 53.17%\n"
          ]
        }
      ],
      "source": [
        "num_positive_days = 0\n",
        "for idx, row in df.iterrows():\n",
        "    if row.close > row.open:\n",
        "        num_positive_days += 1\n",
        "\n",
        "print(f\"The total number of positive-gain days is {num_positive_days} out of {len(df)} days or as percentage {num_positive_days/len(df):.2%}\")"
      ]
    },
    {
      "cell_type": "markdown",
      "metadata": {
        "id": "AvYfT-OzMzp3"
      },
      "source": [
        "::: {.callout-note}\n",
        "This is only capturing the intraday gain/loss, not the cumulative inter-day gain/loss.\n",
        ":::\n",
        "\n",
        "## Filtering\n",
        "\n",
        "It is easy to select rows from the data.  \n",
        "\n",
        "All the operations below return a new Series or DataFrame, which itself can be\n",
        "treated the same way as all Series and DataFrames we have seen so far."
      ]
    },
    {
      "cell_type": "code",
      "execution_count": 30,
      "metadata": {
        "id": "QZF1r2_RMzp3"
      },
      "outputs": [
        {
          "data": {
            "text/plain": [
              "Date\n",
              "12/24/24    True\n",
              "12/26/24    True\n",
              "12/27/24    True\n",
              "12/30/24    True\n",
              "12/31/24    True\n",
              "Name: high, dtype: bool"
            ]
          },
          "execution_count": 30,
          "metadata": {},
          "output_type": "execute_result"
        }
      ],
      "source": [
        "tmp_high = df.high > 100\n",
        "tmp_high.tail()"
      ]
    },
    {
      "cell_type": "markdown",
      "metadata": {
        "id": "j4SaUGFqMzp3"
      },
      "source": [
        "Summing a Boolean array is the same as counting the number of `True` values."
      ]
    },
    {
      "cell_type": "code",
      "execution_count": 31,
      "metadata": {
        "id": "fEZv51luMzp3"
      },
      "outputs": [
        {
          "data": {
            "text/plain": [
              "153"
            ]
          },
          "execution_count": 31,
          "metadata": {},
          "output_type": "execute_result"
        }
      ],
      "source": [
        "sum(tmp_high)"
      ]
    },
    {
      "cell_type": "markdown",
      "metadata": {
        "id": "sM5smNaeMzp3"
      },
      "source": [
        "---\n",
        "\n",
        "Now, let's select only the rows of `df` that correspond to `tmp_high`.\n",
        "\n",
        "::: {.callout-note}\n",
        "We can pass a series to the dataframe to select rows.\n",
        ":::"
      ]
    },
    {
      "cell_type": "code",
      "execution_count": 32,
      "metadata": {
        "id": "RXjxnm87Mzp3"
      },
      "outputs": [
        {
          "data": {
            "text/html": [
              "<div>\n",
              "<style scoped>\n",
              "    .dataframe tbody tr th:only-of-type {\n",
              "        vertical-align: middle;\n",
              "    }\n",
              "\n",
              "    .dataframe tbody tr th {\n",
              "        vertical-align: top;\n",
              "    }\n",
              "\n",
              "    .dataframe thead th {\n",
              "        text-align: right;\n",
              "    }\n",
              "</style>\n",
              "<table border=\"1\" class=\"dataframe\">\n",
              "  <thead>\n",
              "    <tr style=\"text-align: right;\">\n",
              "      <th></th>\n",
              "      <th>open</th>\n",
              "      <th>high</th>\n",
              "      <th>low</th>\n",
              "      <th>close</th>\n",
              "      <th>volume</th>\n",
              "    </tr>\n",
              "    <tr>\n",
              "      <th>Date</th>\n",
              "      <th></th>\n",
              "      <th></th>\n",
              "      <th></th>\n",
              "      <th></th>\n",
              "      <th></th>\n",
              "    </tr>\n",
              "  </thead>\n",
              "  <tbody>\n",
              "    <tr>\n",
              "      <th>05/23/24</th>\n",
              "      <td>102.028</td>\n",
              "      <td>106.3200</td>\n",
              "      <td>101.520</td>\n",
              "      <td>103.799</td>\n",
              "      <td>8.350653e+08</td>\n",
              "    </tr>\n",
              "    <tr>\n",
              "      <th>05/24/24</th>\n",
              "      <td>104.449</td>\n",
              "      <td>106.4750</td>\n",
              "      <td>103.000</td>\n",
              "      <td>106.469</td>\n",
              "      <td>4.294937e+08</td>\n",
              "    </tr>\n",
              "    <tr>\n",
              "      <th>05/28/24</th>\n",
              "      <td>110.244</td>\n",
              "      <td>114.9390</td>\n",
              "      <td>109.883</td>\n",
              "      <td>113.901</td>\n",
              "      <td>6.527280e+08</td>\n",
              "    </tr>\n",
              "    <tr>\n",
              "      <th>05/29/24</th>\n",
              "      <td>113.050</td>\n",
              "      <td>115.4920</td>\n",
              "      <td>110.901</td>\n",
              "      <td>114.825</td>\n",
              "      <td>5.574419e+08</td>\n",
              "    </tr>\n",
              "    <tr>\n",
              "      <th>05/30/24</th>\n",
              "      <td>114.650</td>\n",
              "      <td>115.8192</td>\n",
              "      <td>109.663</td>\n",
              "      <td>110.500</td>\n",
              "      <td>4.873503e+08</td>\n",
              "    </tr>\n",
              "    <tr>\n",
              "      <th>...</th>\n",
              "      <td>...</td>\n",
              "      <td>...</td>\n",
              "      <td>...</td>\n",
              "      <td>...</td>\n",
              "      <td>...</td>\n",
              "    </tr>\n",
              "    <tr>\n",
              "      <th>12/24/24</th>\n",
              "      <td>140.000</td>\n",
              "      <td>141.9000</td>\n",
              "      <td>138.650</td>\n",
              "      <td>140.220</td>\n",
              "      <td>1.051570e+08</td>\n",
              "    </tr>\n",
              "    <tr>\n",
              "      <th>12/26/24</th>\n",
              "      <td>139.700</td>\n",
              "      <td>140.8500</td>\n",
              "      <td>137.730</td>\n",
              "      <td>139.930</td>\n",
              "      <td>1.165191e+08</td>\n",
              "    </tr>\n",
              "    <tr>\n",
              "      <th>12/27/24</th>\n",
              "      <td>138.550</td>\n",
              "      <td>139.0200</td>\n",
              "      <td>134.710</td>\n",
              "      <td>137.010</td>\n",
              "      <td>1.705826e+08</td>\n",
              "    </tr>\n",
              "    <tr>\n",
              "      <th>12/30/24</th>\n",
              "      <td>134.830</td>\n",
              "      <td>140.2700</td>\n",
              "      <td>134.020</td>\n",
              "      <td>137.490</td>\n",
              "      <td>1.677347e+08</td>\n",
              "    </tr>\n",
              "    <tr>\n",
              "      <th>12/31/24</th>\n",
              "      <td>138.030</td>\n",
              "      <td>138.0700</td>\n",
              "      <td>133.830</td>\n",
              "      <td>134.290</td>\n",
              "      <td>1.556592e+08</td>\n",
              "    </tr>\n",
              "  </tbody>\n",
              "</table>\n",
              "<p>153 rows × 5 columns</p>\n",
              "</div>"
            ],
            "text/plain": [
              "             open      high      low    close        volume\n",
              "Date                                                       \n",
              "05/23/24  102.028  106.3200  101.520  103.799  8.350653e+08\n",
              "05/24/24  104.449  106.4750  103.000  106.469  4.294937e+08\n",
              "05/28/24  110.244  114.9390  109.883  113.901  6.527280e+08\n",
              "05/29/24  113.050  115.4920  110.901  114.825  5.574419e+08\n",
              "05/30/24  114.650  115.8192  109.663  110.500  4.873503e+08\n",
              "...           ...       ...      ...      ...           ...\n",
              "12/24/24  140.000  141.9000  138.650  140.220  1.051570e+08\n",
              "12/26/24  139.700  140.8500  137.730  139.930  1.165191e+08\n",
              "12/27/24  138.550  139.0200  134.710  137.010  1.705826e+08\n",
              "12/30/24  134.830  140.2700  134.020  137.490  1.677347e+08\n",
              "12/31/24  138.030  138.0700  133.830  134.290  1.556592e+08\n",
              "\n",
              "[153 rows x 5 columns]"
            ]
          },
          "execution_count": 32,
          "metadata": {},
          "output_type": "execute_result"
        }
      ],
      "source": [
        "df[tmp_high]"
      ]
    },
    {
      "cell_type": "markdown",
      "metadata": {
        "id": "ILvBPvj6Mzp3"
      },
      "source": [
        "---\n",
        "\n",
        "Putting it all together, we can count the number of positive days without iterating over the rows."
      ]
    },
    {
      "cell_type": "code",
      "execution_count": 33,
      "metadata": {
        "id": "0chQmLN7Mzp3"
      },
      "outputs": [
        {
          "name": "stdout",
          "output_type": "stream",
          "text": [
            "Total number of positive-gain days is 134\n"
          ]
        },
        {
          "data": {
            "text/html": [
              "<div>\n",
              "<style scoped>\n",
              "    .dataframe tbody tr th:only-of-type {\n",
              "        vertical-align: middle;\n",
              "    }\n",
              "\n",
              "    .dataframe tbody tr th {\n",
              "        vertical-align: top;\n",
              "    }\n",
              "\n",
              "    .dataframe thead th {\n",
              "        text-align: right;\n",
              "    }\n",
              "</style>\n",
              "<table border=\"1\" class=\"dataframe\">\n",
              "  <thead>\n",
              "    <tr style=\"text-align: right;\">\n",
              "      <th></th>\n",
              "      <th>open</th>\n",
              "      <th>high</th>\n",
              "      <th>low</th>\n",
              "      <th>close</th>\n",
              "      <th>volume</th>\n",
              "    </tr>\n",
              "    <tr>\n",
              "      <th>Date</th>\n",
              "      <th></th>\n",
              "      <th></th>\n",
              "      <th></th>\n",
              "      <th></th>\n",
              "      <th></th>\n",
              "    </tr>\n",
              "  </thead>\n",
              "  <tbody>\n",
              "    <tr>\n",
              "      <th>01/03/24</th>\n",
              "      <td>47.485</td>\n",
              "      <td>48.1841</td>\n",
              "      <td>47.320</td>\n",
              "      <td>47.569</td>\n",
              "      <td>3.208962e+08</td>\n",
              "    </tr>\n",
              "    <tr>\n",
              "      <th>01/04/24</th>\n",
              "      <td>47.767</td>\n",
              "      <td>48.5000</td>\n",
              "      <td>47.508</td>\n",
              "      <td>47.998</td>\n",
              "      <td>3.065349e+08</td>\n",
              "    </tr>\n",
              "    <tr>\n",
              "      <th>01/05/24</th>\n",
              "      <td>48.462</td>\n",
              "      <td>49.5470</td>\n",
              "      <td>48.306</td>\n",
              "      <td>49.097</td>\n",
              "      <td>4.150393e+08</td>\n",
              "    </tr>\n",
              "    <tr>\n",
              "      <th>01/08/24</th>\n",
              "      <td>49.512</td>\n",
              "      <td>52.2750</td>\n",
              "      <td>49.479</td>\n",
              "      <td>52.253</td>\n",
              "      <td>6.425099e+08</td>\n",
              "    </tr>\n",
              "    <tr>\n",
              "      <th>01/09/24</th>\n",
              "      <td>52.401</td>\n",
              "      <td>54.3250</td>\n",
              "      <td>51.690</td>\n",
              "      <td>53.140</td>\n",
              "      <td>7.731001e+08</td>\n",
              "    </tr>\n",
              "  </tbody>\n",
              "</table>\n",
              "</div>"
            ],
            "text/plain": [
              "            open     high     low   close        volume\n",
              "Date                                                   \n",
              "01/03/24  47.485  48.1841  47.320  47.569  3.208962e+08\n",
              "01/04/24  47.767  48.5000  47.508  47.998  3.065349e+08\n",
              "01/05/24  48.462  49.5470  48.306  49.097  4.150393e+08\n",
              "01/08/24  49.512  52.2750  49.479  52.253  6.425099e+08\n",
              "01/09/24  52.401  54.3250  51.690  53.140  7.731001e+08"
            ]
          },
          "execution_count": 33,
          "metadata": {},
          "output_type": "execute_result"
        }
      ],
      "source": [
        "positive_days = df[df.close > df.open]\n",
        "print(f\"Total number of positive-gain days is {len(positive_days)}\")\n",
        "positive_days.head()"
      ]
    },
    {
      "cell_type": "markdown",
      "metadata": {
        "id": "50kWHhEUMzp3"
      },
      "source": [
        "---\n",
        "\n",
        "Or count the number of days with a gain of more than $2."
      ]
    },
    {
      "cell_type": "code",
      "execution_count": 34,
      "metadata": {
        "id": "llvG7yBOMzp3"
      },
      "outputs": [
        {
          "name": "stdout",
          "output_type": "stream",
          "text": [
            "Total number of days with gain > $2 is 51\n"
          ]
        },
        {
          "data": {
            "text/html": [
              "<div>\n",
              "<style scoped>\n",
              "    .dataframe tbody tr th:only-of-type {\n",
              "        vertical-align: middle;\n",
              "    }\n",
              "\n",
              "    .dataframe tbody tr th {\n",
              "        vertical-align: top;\n",
              "    }\n",
              "\n",
              "    .dataframe thead th {\n",
              "        text-align: right;\n",
              "    }\n",
              "</style>\n",
              "<table border=\"1\" class=\"dataframe\">\n",
              "  <thead>\n",
              "    <tr style=\"text-align: right;\">\n",
              "      <th></th>\n",
              "      <th>open</th>\n",
              "      <th>high</th>\n",
              "      <th>low</th>\n",
              "      <th>close</th>\n",
              "      <th>volume</th>\n",
              "    </tr>\n",
              "    <tr>\n",
              "      <th>Date</th>\n",
              "      <th></th>\n",
              "      <th></th>\n",
              "      <th></th>\n",
              "      <th></th>\n",
              "      <th></th>\n",
              "    </tr>\n",
              "  </thead>\n",
              "  <tbody>\n",
              "    <tr>\n",
              "      <th>01/08/24</th>\n",
              "      <td>49.512</td>\n",
              "      <td>52.275</td>\n",
              "      <td>49.479</td>\n",
              "      <td>52.253</td>\n",
              "      <td>6.425099e+08</td>\n",
              "    </tr>\n",
              "    <tr>\n",
              "      <th>02/02/24</th>\n",
              "      <td>63.974</td>\n",
              "      <td>66.600</td>\n",
              "      <td>63.690</td>\n",
              "      <td>66.160</td>\n",
              "      <td>4.765777e+08</td>\n",
              "    </tr>\n",
              "    <tr>\n",
              "      <th>02/22/24</th>\n",
              "      <td>75.025</td>\n",
              "      <td>78.575</td>\n",
              "      <td>74.220</td>\n",
              "      <td>78.538</td>\n",
              "      <td>8.650997e+08</td>\n",
              "    </tr>\n",
              "    <tr>\n",
              "      <th>03/01/24</th>\n",
              "      <td>80.000</td>\n",
              "      <td>82.300</td>\n",
              "      <td>79.435</td>\n",
              "      <td>82.279</td>\n",
              "      <td>4.791351e+08</td>\n",
              "    </tr>\n",
              "    <tr>\n",
              "      <th>03/07/24</th>\n",
              "      <td>90.158</td>\n",
              "      <td>92.767</td>\n",
              "      <td>89.602</td>\n",
              "      <td>92.669</td>\n",
              "      <td>6.081191e+08</td>\n",
              "    </tr>\n",
              "  </tbody>\n",
              "</table>\n",
              "</div>"
            ],
            "text/plain": [
              "            open    high     low   close        volume\n",
              "Date                                                  \n",
              "01/08/24  49.512  52.275  49.479  52.253  6.425099e+08\n",
              "02/02/24  63.974  66.600  63.690  66.160  4.765777e+08\n",
              "02/22/24  75.025  78.575  74.220  78.538  8.650997e+08\n",
              "03/01/24  80.000  82.300  79.435  82.279  4.791351e+08\n",
              "03/07/24  90.158  92.767  89.602  92.669  6.081191e+08"
            ]
          },
          "execution_count": 34,
          "metadata": {},
          "output_type": "execute_result"
        }
      ],
      "source": [
        "very_positive_days = df[(df.close - df.open) > 2]\n",
        "print(f\"Total number of days with gain > $2 is {len(very_positive_days)}\")\n",
        "very_positive_days.head()"
      ]
    },
    {
      "cell_type": "markdown",
      "metadata": {
        "id": "lrqpWb7zMzp3"
      },
      "source": [
        "Note that this doesn't the explain the total gain for the year. Why?\n",
        "\n",
        "## Creating new columns\n",
        "\n",
        "To create a new column, simply assign values to it. The column name is similar to a key in a dictionary.\n",
        "\n",
        "Let's look at the daily change in closing price."
      ]
    },
    {
      "cell_type": "code",
      "execution_count": 35,
      "metadata": {
        "id": "QtKv4cDiMzp3"
      },
      "outputs": [
        {
          "name": "stdout",
          "output_type": "stream",
          "text": [
            "           close  daily_change  cum_profit\n",
            "Date                                      \n",
            "01/02/24  48.168           NaN         NaN\n",
            "01/03/24  47.569        -0.599      -0.599\n",
            "01/04/24  47.998         0.429      -0.170\n",
            "01/05/24  49.097         1.099       0.929\n",
            "01/08/24  52.253         3.156       4.085\n"
          ]
        }
      ],
      "source": [
        "# Calculate the daily change in closing price\n",
        "df['daily_change'] = df['close'].diff()\n",
        "\n",
        "# Create the cumulative profit column\n",
        "df['cum_profit'] = df['daily_change'].cumsum()\n",
        "\n",
        "# Display the first few rows to verify the new column\n",
        "print(df[['close', 'daily_change', 'cum_profit']].head())"
      ]
    },
    {
      "cell_type": "markdown",
      "metadata": {
        "id": "UsyDuWy2Mzp5"
      },
      "source": [
        "It is convenient that `.diff()` by default is the difference between the current and previous row.\n",
        "\n",
        "---\n",
        "\n",
        "Let's look at the histogram of the daily change in stock price."
      ]
    },
    {
      "cell_type": "code",
      "execution_count": 36,
      "metadata": {
        "id": "awqJbcq5Mzp5"
      },
      "outputs": [
        {
          "data": {
            "image/png": "[encoded data removed]",
            "text/plain": [
              "<Figure size 1000x600 with 1 Axes>"
            ]
          },
          "metadata": {},
          "output_type": "display_data"
        }
      ],
      "source": [
        "# Plot histogram of daily_change\n",
        "plt.figure(figsize=(10, 6))\n",
        "df['daily_change'].hist(bins=50, edgecolor='black')\n",
        "plt.title('Histogram of Daily Change in Stock Price')\n",
        "plt.xlabel('Daily Change')\n",
        "plt.ylabel('Frequency')\n",
        "plt.show()"
      ]
    },
    {
      "cell_type": "markdown",
      "metadata": {
        "id": "kfGyw528Mzp5"
      },
      "source": [
        "---\n",
        "\n",
        "Let's give each row a `gain` value as a categorical variable."
      ]
    },
    {
      "cell_type": "code",
      "execution_count": 37,
      "metadata": {
        "id": "Z-q2yxZmMzp5"
      },
      "outputs": [
        {
          "data": {
            "text/html": [
              "<div>\n",
              "<style scoped>\n",
              "    .dataframe tbody tr th:only-of-type {\n",
              "        vertical-align: middle;\n",
              "    }\n",
              "\n",
              "    .dataframe tbody tr th {\n",
              "        vertical-align: top;\n",
              "    }\n",
              "\n",
              "    .dataframe thead th {\n",
              "        text-align: right;\n",
              "    }\n",
              "</style>\n",
              "<table border=\"1\" class=\"dataframe\">\n",
              "  <thead>\n",
              "    <tr style=\"text-align: right;\">\n",
              "      <th></th>\n",
              "      <th>open</th>\n",
              "      <th>high</th>\n",
              "      <th>low</th>\n",
              "      <th>close</th>\n",
              "      <th>volume</th>\n",
              "      <th>daily_change</th>\n",
              "      <th>cum_profit</th>\n",
              "      <th>cat_gain</th>\n",
              "    </tr>\n",
              "    <tr>\n",
              "      <th>Date</th>\n",
              "      <th></th>\n",
              "      <th></th>\n",
              "      <th></th>\n",
              "      <th></th>\n",
              "      <th></th>\n",
              "      <th></th>\n",
              "      <th></th>\n",
              "      <th></th>\n",
              "    </tr>\n",
              "  </thead>\n",
              "  <tbody>\n",
              "    <tr>\n",
              "      <th>01/02/24</th>\n",
              "      <td>49.244</td>\n",
              "      <td>49.2950</td>\n",
              "      <td>47.595</td>\n",
              "      <td>48.168</td>\n",
              "      <td>4.112542e+08</td>\n",
              "      <td>NaN</td>\n",
              "      <td>NaN</td>\n",
              "      <td>NaN</td>\n",
              "    </tr>\n",
              "    <tr>\n",
              "      <th>01/03/24</th>\n",
              "      <td>47.485</td>\n",
              "      <td>48.1841</td>\n",
              "      <td>47.320</td>\n",
              "      <td>47.569</td>\n",
              "      <td>3.208962e+08</td>\n",
              "      <td>-0.599</td>\n",
              "      <td>-0.599</td>\n",
              "      <td>negative</td>\n",
              "    </tr>\n",
              "    <tr>\n",
              "      <th>01/04/24</th>\n",
              "      <td>47.767</td>\n",
              "      <td>48.5000</td>\n",
              "      <td>47.508</td>\n",
              "      <td>47.998</td>\n",
              "      <td>3.065349e+08</td>\n",
              "      <td>0.429</td>\n",
              "      <td>-0.170</td>\n",
              "      <td>small_gain</td>\n",
              "    </tr>\n",
              "    <tr>\n",
              "      <th>01/05/24</th>\n",
              "      <td>48.462</td>\n",
              "      <td>49.5470</td>\n",
              "      <td>48.306</td>\n",
              "      <td>49.097</td>\n",
              "      <td>4.150393e+08</td>\n",
              "      <td>1.099</td>\n",
              "      <td>0.929</td>\n",
              "      <td>medium_gain</td>\n",
              "    </tr>\n",
              "    <tr>\n",
              "      <th>01/08/24</th>\n",
              "      <td>49.512</td>\n",
              "      <td>52.2750</td>\n",
              "      <td>49.479</td>\n",
              "      <td>52.253</td>\n",
              "      <td>6.425099e+08</td>\n",
              "      <td>3.156</td>\n",
              "      <td>4.085</td>\n",
              "      <td>large_gain</td>\n",
              "    </tr>\n",
              "  </tbody>\n",
              "</table>\n",
              "</div>"
            ],
            "text/plain": [
              "            open     high     low   close        volume  daily_change  \\\n",
              "Date                                                                    \n",
              "01/02/24  49.244  49.2950  47.595  48.168  4.112542e+08           NaN   \n",
              "01/03/24  47.485  48.1841  47.320  47.569  3.208962e+08        -0.599   \n",
              "01/04/24  47.767  48.5000  47.508  47.998  3.065349e+08         0.429   \n",
              "01/05/24  48.462  49.5470  48.306  49.097  4.150393e+08         1.099   \n",
              "01/08/24  49.512  52.2750  49.479  52.253  6.425099e+08         3.156   \n",
              "\n",
              "          cum_profit     cat_gain  \n",
              "Date                               \n",
              "01/02/24         NaN          NaN  \n",
              "01/03/24      -0.599     negative  \n",
              "01/04/24      -0.170   small_gain  \n",
              "01/05/24       0.929  medium_gain  \n",
              "01/08/24       4.085   large_gain  "
            ]
          },
          "execution_count": 37,
          "metadata": {},
          "output_type": "execute_result"
        }
      ],
      "source": [
        "for idx, row in df.iterrows():\n",
        "    if row.daily_change < 0:\n",
        "        df.loc[idx,'cat_gain']='negative'\n",
        "    elif row.daily_change < 1:\n",
        "        df.loc[idx,'cat_gain']='small_gain'\n",
        "    elif row.daily_change < 2:\n",
        "        df.loc[idx,'cat_gain']='medium_gain'\n",
        "    elif row.daily_change >= 2:\n",
        "        df.loc[idx,'cat_gain']='large_gain'\n",
        "df.head()"
      ]
    },
    {
      "cell_type": "markdown",
      "metadata": {
        "id": "CRaw_y41Mzp5"
      },
      "source": [
        "---\n",
        "\n",
        "Here is another, more \"functional\", way to accomplish the same thing.\n",
        "\n",
        "First, let's drop the gain column so we can start fresh."
      ]
    },
    {
      "cell_type": "code",
      "execution_count": 38,
      "metadata": {
        "id": "7JSjZRTSMzp5"
      },
      "outputs": [
        {
          "data": {
            "text/html": [
              "<div>\n",
              "<style scoped>\n",
              "    .dataframe tbody tr th:only-of-type {\n",
              "        vertical-align: middle;\n",
              "    }\n",
              "\n",
              "    .dataframe tbody tr th {\n",
              "        vertical-align: top;\n",
              "    }\n",
              "\n",
              "    .dataframe thead th {\n",
              "        text-align: right;\n",
              "    }\n",
              "</style>\n",
              "<table border=\"1\" class=\"dataframe\">\n",
              "  <thead>\n",
              "    <tr style=\"text-align: right;\">\n",
              "      <th></th>\n",
              "      <th>open</th>\n",
              "      <th>high</th>\n",
              "      <th>low</th>\n",
              "      <th>close</th>\n",
              "      <th>volume</th>\n",
              "      <th>daily_change</th>\n",
              "      <th>cum_profit</th>\n",
              "    </tr>\n",
              "    <tr>\n",
              "      <th>Date</th>\n",
              "      <th></th>\n",
              "      <th></th>\n",
              "      <th></th>\n",
              "      <th></th>\n",
              "      <th></th>\n",
              "      <th></th>\n",
              "      <th></th>\n",
              "    </tr>\n",
              "  </thead>\n",
              "  <tbody>\n",
              "    <tr>\n",
              "      <th>01/02/24</th>\n",
              "      <td>49.244</td>\n",
              "      <td>49.2950</td>\n",
              "      <td>47.595</td>\n",
              "      <td>48.168</td>\n",
              "      <td>4.112542e+08</td>\n",
              "      <td>NaN</td>\n",
              "      <td>NaN</td>\n",
              "    </tr>\n",
              "    <tr>\n",
              "      <th>01/03/24</th>\n",
              "      <td>47.485</td>\n",
              "      <td>48.1841</td>\n",
              "      <td>47.320</td>\n",
              "      <td>47.569</td>\n",
              "      <td>3.208962e+08</td>\n",
              "      <td>-0.599</td>\n",
              "      <td>-0.599</td>\n",
              "    </tr>\n",
              "    <tr>\n",
              "      <th>01/04/24</th>\n",
              "      <td>47.767</td>\n",
              "      <td>48.5000</td>\n",
              "      <td>47.508</td>\n",
              "      <td>47.998</td>\n",
              "      <td>3.065349e+08</td>\n",
              "      <td>0.429</td>\n",
              "      <td>-0.170</td>\n",
              "    </tr>\n",
              "    <tr>\n",
              "      <th>01/05/24</th>\n",
              "      <td>48.462</td>\n",
              "      <td>49.5470</td>\n",
              "      <td>48.306</td>\n",
              "      <td>49.097</td>\n",
              "      <td>4.150393e+08</td>\n",
              "      <td>1.099</td>\n",
              "      <td>0.929</td>\n",
              "    </tr>\n",
              "    <tr>\n",
              "      <th>01/08/24</th>\n",
              "      <td>49.512</td>\n",
              "      <td>52.2750</td>\n",
              "      <td>49.479</td>\n",
              "      <td>52.253</td>\n",
              "      <td>6.425099e+08</td>\n",
              "      <td>3.156</td>\n",
              "      <td>4.085</td>\n",
              "    </tr>\n",
              "  </tbody>\n",
              "</table>\n",
              "</div>"
            ],
            "text/plain": [
              "            open     high     low   close        volume  daily_change  \\\n",
              "Date                                                                    \n",
              "01/02/24  49.244  49.2950  47.595  48.168  4.112542e+08           NaN   \n",
              "01/03/24  47.485  48.1841  47.320  47.569  3.208962e+08        -0.599   \n",
              "01/04/24  47.767  48.5000  47.508  47.998  3.065349e+08         0.429   \n",
              "01/05/24  48.462  49.5470  48.306  49.097  4.150393e+08         1.099   \n",
              "01/08/24  49.512  52.2750  49.479  52.253  6.425099e+08         3.156   \n",
              "\n",
              "          cum_profit  \n",
              "Date                  \n",
              "01/02/24         NaN  \n",
              "01/03/24      -0.599  \n",
              "01/04/24      -0.170  \n",
              "01/05/24       0.929  \n",
              "01/08/24       4.085  "
            ]
          },
          "execution_count": 38,
          "metadata": {},
          "output_type": "execute_result"
        }
      ],
      "source": [
        "df.drop('cat_gain', axis=1, inplace=True)\n",
        "df.head()"
      ]
    },
    {
      "cell_type": "markdown",
      "metadata": {
        "id": "eFDiiU9DMzp5"
      },
      "source": [
        "---\n",
        "\n",
        "Define a function that classifies rows, and `apply` it to each row."
      ]
    },
    {
      "cell_type": "code",
      "execution_count": 39,
      "metadata": {
        "id": "etRqCQoYMzp5"
      },
      "outputs": [
        {
          "data": {
            "text/html": [
              "<div>\n",
              "<style scoped>\n",
              "    .dataframe tbody tr th:only-of-type {\n",
              "        vertical-align: middle;\n",
              "    }\n",
              "\n",
              "    .dataframe tbody tr th {\n",
              "        vertical-align: top;\n",
              "    }\n",
              "\n",
              "    .dataframe thead th {\n",
              "        text-align: right;\n",
              "    }\n",
              "</style>\n",
              "<table border=\"1\" class=\"dataframe\">\n",
              "  <thead>\n",
              "    <tr style=\"text-align: right;\">\n",
              "      <th></th>\n",
              "      <th>open</th>\n",
              "      <th>high</th>\n",
              "      <th>low</th>\n",
              "      <th>close</th>\n",
              "      <th>volume</th>\n",
              "      <th>daily_change</th>\n",
              "      <th>cum_profit</th>\n",
              "      <th>cat_gain</th>\n",
              "    </tr>\n",
              "    <tr>\n",
              "      <th>Date</th>\n",
              "      <th></th>\n",
              "      <th></th>\n",
              "      <th></th>\n",
              "      <th></th>\n",
              "      <th></th>\n",
              "      <th></th>\n",
              "      <th></th>\n",
              "      <th></th>\n",
              "    </tr>\n",
              "  </thead>\n",
              "  <tbody>\n",
              "    <tr>\n",
              "      <th>01/02/24</th>\n",
              "      <td>49.244</td>\n",
              "      <td>49.2950</td>\n",
              "      <td>47.595</td>\n",
              "      <td>48.168</td>\n",
              "      <td>4.112542e+08</td>\n",
              "      <td>NaN</td>\n",
              "      <td>NaN</td>\n",
              "      <td>None</td>\n",
              "    </tr>\n",
              "    <tr>\n",
              "      <th>01/03/24</th>\n",
              "      <td>47.485</td>\n",
              "      <td>48.1841</td>\n",
              "      <td>47.320</td>\n",
              "      <td>47.569</td>\n",
              "      <td>3.208962e+08</td>\n",
              "      <td>-0.599</td>\n",
              "      <td>-0.599</td>\n",
              "      <td>negative</td>\n",
              "    </tr>\n",
              "    <tr>\n",
              "      <th>01/04/24</th>\n",
              "      <td>47.767</td>\n",
              "      <td>48.5000</td>\n",
              "      <td>47.508</td>\n",
              "      <td>47.998</td>\n",
              "      <td>3.065349e+08</td>\n",
              "      <td>0.429</td>\n",
              "      <td>-0.170</td>\n",
              "      <td>small_gain</td>\n",
              "    </tr>\n",
              "    <tr>\n",
              "      <th>01/05/24</th>\n",
              "      <td>48.462</td>\n",
              "      <td>49.5470</td>\n",
              "      <td>48.306</td>\n",
              "      <td>49.097</td>\n",
              "      <td>4.150393e+08</td>\n",
              "      <td>1.099</td>\n",
              "      <td>0.929</td>\n",
              "      <td>medium_gain</td>\n",
              "    </tr>\n",
              "    <tr>\n",
              "      <th>01/08/24</th>\n",
              "      <td>49.512</td>\n",
              "      <td>52.2750</td>\n",
              "      <td>49.479</td>\n",
              "      <td>52.253</td>\n",
              "      <td>6.425099e+08</td>\n",
              "      <td>3.156</td>\n",
              "      <td>4.085</td>\n",
              "      <td>large_gain</td>\n",
              "    </tr>\n",
              "  </tbody>\n",
              "</table>\n",
              "</div>"
            ],
            "text/plain": [
              "            open     high     low   close        volume  daily_change  \\\n",
              "Date                                                                    \n",
              "01/02/24  49.244  49.2950  47.595  48.168  4.112542e+08           NaN   \n",
              "01/03/24  47.485  48.1841  47.320  47.569  3.208962e+08        -0.599   \n",
              "01/04/24  47.767  48.5000  47.508  47.998  3.065349e+08         0.429   \n",
              "01/05/24  48.462  49.5470  48.306  49.097  4.150393e+08         1.099   \n",
              "01/08/24  49.512  52.2750  49.479  52.253  6.425099e+08         3.156   \n",
              "\n",
              "          cum_profit     cat_gain  \n",
              "Date                               \n",
              "01/02/24         NaN         None  \n",
              "01/03/24      -0.599     negative  \n",
              "01/04/24      -0.170   small_gain  \n",
              "01/05/24       0.929  medium_gain  \n",
              "01/08/24       4.085   large_gain  "
            ]
          },
          "execution_count": 39,
          "metadata": {},
          "output_type": "execute_result"
        }
      ],
      "source": [
        "def namerow(row):\n",
        "    if row.daily_change < 0:\n",
        "        return 'negative'\n",
        "    elif row.daily_change < 1:\n",
        "        return 'small_gain'\n",
        "    elif row.daily_change < 2:\n",
        "        return 'medium_gain'\n",
        "    elif row.daily_change >= 2:\n",
        "        return 'large_gain'\n",
        "\n",
        "df['cat_gain'] = df.apply(namerow, axis=1)\n",
        "df.head()"
      ]
    },
    {
      "cell_type": "markdown",
      "metadata": {
        "id": "3daFXr-sMzp5"
      },
      "source": [
        "## Grouping\n",
        "\n",
        "A powerful DataFrame method is `groupby()`.\n",
        "\n",
        "This is analagous to `GROUP BY` in SQL.\n",
        "\n",
        "It will group the rows of a DataFrame by the values in one (or more) columns and let you iterate through each group.\n",
        "\n",
        "Here we will look at the average gain among the categories of gains (negative, small, medium, and large) we defined above and stored in the column `gain`."
      ]
    },
    {
      "cell_type": "code",
      "execution_count": 40,
      "metadata": {
        "id": "msLYD1fsMzp5"
      },
      "outputs": [],
      "source": [
        "gain_groups = df.groupby(by='cat_gain')"
      ]
    },
    {
      "cell_type": "markdown",
      "metadata": {
        "id": "WIKu6TG7Mzp5"
      },
      "source": [
        "---\n",
        "\n",
        "Essentially, `gain_groups` behaves like a dictionary:\n",
        "\n",
        "* the keys are the unique values found in the `gain` column, and\n",
        "* the values are DataFrames that contain only the rows having the corresponding unique values."
      ]
    },
    {
      "cell_type": "code",
      "execution_count": 41,
      "metadata": {
        "id": "Mzt07WKHMzp5"
      },
      "outputs": [
        {
          "name": "stdout",
          "output_type": "stream",
          "text": [
            "large_gain\n",
            "           close  daily_change\n",
            "Date                          \n",
            "01/08/24  52.253         3.156\n",
            "01/19/24  59.491         2.384\n",
            "02/02/24  66.160         3.133\n",
            "02/05/24  69.332         3.172\n",
            "02/09/24  72.133         2.492\n",
            "=============================\n",
            "medium_gain\n",
            "           close  daily_change\n",
            "Date                          \n",
            "01/05/24  49.097         1.099\n",
            "01/10/24  54.350         1.210\n",
            "01/16/24  56.382         1.672\n",
            "01/18/24  57.107         1.054\n",
            "01/24/24  61.362         1.489\n",
            "=============================\n",
            "negative\n",
            "           close  daily_change\n",
            "Date                          \n",
            "01/03/24  47.569        -0.599\n",
            "01/12/24  54.710        -0.112\n",
            "01/17/24  56.053        -0.329\n",
            "01/26/24  61.031        -0.586\n",
            "01/31/24  61.527        -1.247\n",
            "=============================\n",
            "small_gain\n",
            "           close  daily_change\n",
            "Date                          \n",
            "01/04/24  47.998         0.429\n",
            "01/09/24  53.140         0.887\n",
            "01/11/24  54.822         0.472\n",
            "01/22/24  59.654         0.163\n",
            "01/23/24  59.873         0.219\n",
            "=============================\n"
          ]
        }
      ],
      "source": [
        "for gain, gain_data in gain_groups:\n",
        "    print(gain)\n",
        "    print(gain_data[['close', 'daily_change']].head())\n",
        "    print('=============================')"
      ]
    },
    {
      "cell_type": "code",
      "execution_count": 42,
      "metadata": {
        "id": "TfKX3RE_Mzp5"
      },
      "outputs": [
        {
          "name": "stdout",
          "output_type": "stream",
          "text": [
            "The average daily change for the large_gain group is 4.327944444444444\n",
            "The average daily change for the medium_gain group is 1.4808620689655185\n",
            "The average daily change for the negative group is -2.603463963963963\n",
            "The average daily change for the small_gain group is 0.5269102564102557\n"
          ]
        }
      ],
      "source": [
        "for gain, gain_data in df.groupby(\"cat_gain\"):\n",
        "    print('The average daily change for the {} group is {}'.format(gain,\n",
        "                                                           gain_data.daily_change.mean()))"
      ]
    },
    {
      "cell_type": "markdown",
      "metadata": {
        "id": "-Iohj6C2Mzp6"
      },
      "source": [
        "## Other Pandas Classes\n",
        "\n",
        "A DataFrame is essentially an annotated 2-D array.\n",
        "\n",
        "Pandas also has annotated versions of 1-D and 3-D arrays.\n",
        "\n",
        "A 1-D array in Pandas is called a [Series](https://pandas.pydata.org/docs/reference/series.html).\n",
        "You can think of DataFrames as a dictionary of Series.\n",
        "\n",
        "A 3-D array in Pandas is created using a\n",
        "[MultiIndex](https://pandas.pydata.org/docs/reference/api/pandas.MultiIndex.html#).\n",
        "\n",
        "For more information read the documentation."
      ]
    },
    {
      "cell_type": "markdown",
      "metadata": {
        "id": "yu5TFiinMzp6"
      },
      "source": [
        "\n",
        "## In Class Activity\n",
        "\n",
        "### Iris Flower Analysis with Pandas\n",
        "**Duration:** 20-25 minutes | **Teams:** 3 students each\n",
        "\n",
        "#### Dataset: Iris Flower Dataset\n",
        "**Download Instructions:**\n",
        "The Iris dataset is built into seaborn, so no download needed!"
      ]
    },
    {
      "cell_type": "code",
      "execution_count": 43,
      "metadata": {
        "id": "VmdjbCS7Mzp6"
      },
      "outputs": [],
      "source": [
        "import pandas as pd\n",
        "import seaborn as sns\n",
        "\n",
        "# Load the Iris dataset directly\n",
        "iris = sns.load_dataset('iris')"
      ]
    },
    {
      "cell_type": "markdown",
      "metadata": {
        "id": "Zcl5CRicMzp6"
      },
      "source": [
        "#### Team Roles (2 minutes)\n",
        "- **Data Loader:** Loads data and explores structure\n",
        "- **Data Analyzer:** Performs calculations and filtering  \n",
        "- **Data Visualizer:** Creates plots and charts\n",
        "\n",
        "#### Activity Tasks (20 minutes)\n",
        "\n",
        "**Phase 1: Data Loading & Exploration (5 minutes)**\n",
        "1. Check the shape and column names\n",
        "2. Use `.head()`, `.info()`, and `.describe()` to explore the data"
      ]
    },
    {
      "cell_type": "code",
      "execution_count": 44,
      "metadata": {
        "id": "qI5nrqdIMzp6"
      },
      "outputs": [
        {
          "name": "stdout",
          "output_type": "stream",
          "text": [
            "Dataset shape: (150, 5)\n",
            "Columns: Index(['sepal_length', 'sepal_width', 'petal_length', 'petal_width',\n",
            "       'species'],\n",
            "      dtype='object')\n",
            "First 5 rows:    sepal_length  sepal_width  petal_length  petal_width species\n",
            "0           5.1          3.5           1.4          0.2  setosa\n",
            "1           4.9          3.0           1.4          0.2  setosa\n",
            "2           4.7          3.2           1.3          0.2  setosa\n",
            "3           4.6          3.1           1.5          0.2  setosa\n",
            "4           5.0          3.6           1.4          0.2  setosa\n",
            "\n",
            "Dataset Info:\n",
            "<class 'pandas.core.frame.DataFrame'>\n",
            "RangeIndex: 150 entries, 0 to 149\n",
            "Data columns (total 5 columns):\n",
            " #   Column        Non-Null Count  Dtype  \n",
            "---  ------        --------------  -----  \n",
            " 0   sepal_length  150 non-null    float64\n",
            " 1   sepal_width   150 non-null    float64\n",
            " 2   petal_length  150 non-null    float64\n",
            " 3   petal_width   150 non-null    float64\n",
            " 4   species       150 non-null    object \n",
            "dtypes: float64(4), object(1)\n",
            "memory usage: 6.0+ KB\n",
            "None\n",
            "\n",
            "Summary Statistics:\n",
            "       sepal_length  sepal_width  petal_length  petal_width\n",
            "count    150.000000   150.000000    150.000000   150.000000\n",
            "mean       5.843333     3.057333      3.758000     1.199333\n",
            "std        0.828066     0.435866      1.765298     0.762238\n",
            "min        4.300000     2.000000      1.000000     0.100000\n",
            "25%        5.100000     2.800000      1.600000     0.300000\n",
            "50%        5.800000     3.000000      4.350000     1.300000\n",
            "75%        6.400000     3.300000      5.100000     1.800000\n",
            "max        7.900000     4.400000      6.900000     2.500000\n"
          ]
        }
      ],
      "source": [
        "# Replace 0 and '[]' with the correct methods on iris\n",
        "print(f\"Dataset shape: {iris.shape}\")\n",
        "print(f\"Columns: {iris.columns}\")\n",
        "\n",
        "# Look at the first few rows\n",
        "print(\"First 5 rows:\",iris.head(5))\n",
        "\n",
        "# Get basic info about the dataset\n",
        "print(\"\\nDataset Info:\")\n",
        "print(iris.info())\n",
        "\n",
        "# Describe the dataset with summary statistics\n",
        "print(\"\\nSummary Statistics:\")\n",
        "print(iris.describe())\n"
      ]
    },
    {
      "cell_type": "markdown",
      "metadata": {
        "id": "rbXpqLjOMzp6"
      },
      "source": [
        "**Phase 2: Basic Data Manipulation (8 minutes)**\n",
        "1. **Create new columns:**\n",
        "   - Add a 'petal_area' column (petal_length × petal_width)\n",
        "   - Create a 'sepal_area' column (sepal_length × sepal_width)\n",
        "   - Create a 'size_category' column:\n",
        "     - 'Small' (petal_area < 2)\n",
        "     - 'Medium' (petal_area 2-5)\n",
        "     - 'Large' (petal_area > 5)"
      ]
    },
    {
      "cell_type": "code",
      "execution_count": 45,
      "metadata": {
        "id": "t397uI3FMzp6"
      },
      "outputs": [
        {
          "name": "stdout",
          "output_type": "stream",
          "text": [
            "New columns created:\n",
            "   petal_length  petal_width  petal_area size_category\n",
            "0           1.4          0.2        0.28        Medium\n",
            "1           1.4          0.2        0.28        Medium\n",
            "2           1.3          0.2        0.26        Medium\n",
            "3           1.5          0.2        0.30        Medium\n",
            "4           1.4          0.2        0.28        Medium\n",
            "5           1.7          0.4        0.68         Large\n",
            "6           1.4          0.3        0.42        Medium\n",
            "7           1.5          0.2        0.30        Medium\n",
            "8           1.4          0.2        0.28        Medium\n",
            "9           1.5          0.1        0.15         Small\n"
          ]
        }
      ],
      "source": [
        "# Create petal area column\n",
        "iris['petal_area'] = iris['petal_length'] * iris['petal_width']\n",
        "\n",
        "# Create sepal area column\n",
        "iris['sepal_area'] = iris['sepal_length'] * iris['sepal_width']\n",
        "\n",
        "# Create size category column\n",
        "def categorize_size(petal_area):\n",
        "    if petal_area < 0.2:\n",
        "        return 'Small'\n",
        "    elif petal_area < 0.5:\n",
        "        return 'Medium'\n",
        "    else:\n",
        "        return 'Large'\n",
        "\n",
        "iris['size_category'] = iris['petal_area'].apply(categorize_size)\n",
        "\n",
        "print(\"New columns created:\",)\n",
        "print(iris[['petal_length', 'petal_width', 'petal_area', 'size_category']].head(10))"
      ]
    },
    {
      "cell_type": "markdown",
      "metadata": {
        "id": "IKJLgFwwMzp6"
      },
      "source": [
        "2. **Data Filtering:**\n",
        "   - Find all 'setosa' species flowers\n",
        "   - Filter for large flowers only\n",
        "   - Find flowers with sepal_length > 6\n"
      ]
    },
    {
      "cell_type": "code",
      "execution_count": 46,
      "metadata": {
        "id": "9fDj3OReMzp6"
      },
      "outputs": [
        {
          "name": "stdout",
          "output_type": "stream",
          "text": [
            "Setosa flowers: 50 out of 150\n",
            "Large flowers: 110 out of 150\n",
            "Flowers with sepal_length > 6: 61 out of 150\n"
          ]
        }
      ],
      "source": [
        "# Find all 'setosa' species flowers\n",
        "setosa_flowers = iris[iris.species == 'setosa']\n",
        "print(f\"Setosa flowers: {len(setosa_flowers)} out of {len(iris)}\")\n",
        "\n",
        "# Filter for large flowers only\n",
        "large_flowers = iris[iris.size_category == 'Large']\n",
        "print(f\"Large flowers: {len(large_flowers)} out of {len(iris)}\")\n",
        "\n",
        "# Find flowers with sepal_length > 6\n",
        "long_sepal = iris[iris.sepal_length > 6]\n",
        "print(f\"Flowers with sepal_length > 6: {len(long_sepal)} out of {len(iris)}\")\n"
      ]
    },
    {
      "cell_type": "markdown",
      "metadata": {
        "id": "2JJXQ4xbMzp6"
      },
      "source": [
        "3. **Basic Analysis:**\n",
        "   - Count flowers by species\n",
        "   - Find average petal length by species"
      ]
    },
    {
      "cell_type": "code",
      "execution_count": 47,
      "metadata": {
        "id": "Am6v3EEkMzp6"
      },
      "outputs": [
        {
          "name": "stdout",
          "output_type": "stream",
          "text": [
            "Flowers by species:\n",
            "species\n",
            "setosa        50\n",
            "versicolor    50\n",
            "virginica     50\n",
            "Name: count, dtype: int64\n",
            "\n",
            "Average petal length by species:\n",
            "species\n",
            "setosa        1.462\n",
            "versicolor    4.260\n",
            "virginica     5.552\n",
            "Name: petal_length, dtype: float64\n"
          ]
        }
      ],
      "source": [
        "# Count flowers by species\n",
        "species_counts = iris['species'].value_counts()\n",
        "print(\"Flowers by species:\")\n",
        "print(species_counts)\n",
        "\n",
        "# Find average petal length by species\n",
        "avg_petal_by_species = iris.groupby('species')['petal_length'].mean()\n",
        "print(\"\\nAverage petal length by species:\")\n",
        "print(avg_petal_by_species)"
      ]
    },
    {
      "cell_type": "markdown",
      "metadata": {
        "id": "kFGvZCorMzp6"
      },
      "source": [
        "**Phase 3: Simple Visualizations (7 minutes)**\n",
        "1. **Create 2-3 basic plots:**\n",
        "   - Histogram of petal length\n",
        "   - Bar chart of flower count by species\n",
        "   - Scatter plot: sepal_length vs sepal_width\n"
      ]
    },
    {
      "cell_type": "code",
      "execution_count": 48,
      "metadata": {
        "id": "Jqaki5GkMzp6"
      },
      "outputs": [
        {
          "data": {
            "image/png": "[encoded data removed]",
            "text/plain": [
              "<Figure size 1500x1000 with 4 Axes>"
            ]
          },
          "metadata": {},
          "output_type": "display_data"
        }
      ],
      "source": [
        "# Create a figure with subplots\n",
        "fig, axes = plt.subplots(2, 2, figsize=(15, 10))\n",
        "\n",
        "# 1. Histogram of petal length\n",
        "axes[0, 0].hist(iris['petal_length'], bins=15, alpha=0.7, edgecolor='black', color='skyblue')\n",
        "axes[0, 0].set_title('Distribution of Petal Length')\n",
        "axes[0, 0].set_xlabel('Petal Length (cm)')\n",
        "axes[0, 0].set_ylabel('Frequency')\n",
        "axes[0, 0].grid(True, alpha=0.3)\n",
        "\n",
        "# 2. Bar chart of flower count by species\n",
        "species_counts = iris['species'].value_counts()\n",
        "species_counts.plot(kind='bar', ax=axes[0, 1], color=['red', 'green', 'blue'])\n",
        "axes[0, 1].set_title('Number of Flowers by Species')\n",
        "axes[0, 1].set_xlabel('Species')\n",
        "axes[0, 1].set_ylabel('Number of Flowers')\n",
        "axes[0, 1].tick_params(axis='x', rotation=45)\n",
        "axes[0, 1].grid(True, alpha=0.3)\n",
        "\n",
        "# 3. Scatter plot: sepal_length vs sepal_width\n",
        "for species in iris['species'].unique():\n",
        "    data = iris[iris['species'] == species]\n",
        "    axes[1, 0].scatter(data['sepal_length'], data['sepal_width'],\n",
        "                      alpha=0.7, label=species, s=50)\n",
        "axes[1, 0].set_title('Sepal Length vs Sepal Width (by Species)')\n",
        "axes[1, 0].set_xlabel('Sepal Length (cm)')\n",
        "axes[1, 0].set_ylabel('Sepal Width (cm)')\n",
        "axes[1, 0].legend()\n",
        "axes[1, 0].grid(True, alpha=0.3)\n",
        "\n",
        "# 4. Bar chart of size categories (if size_category column exists)\n",
        "if 'size_category' in iris.columns:\n",
        "    size_categories = iris['size_category'].value_counts()\n",
        "    size_categories.plot(kind='bar', ax=axes[1, 1], color=['orange', 'lightgreen', 'lightcoral'])\n",
        "    axes[1, 1].set_title('Flowers by Size Category')\n",
        "    axes[1, 1].set_xlabel('Size Category')\n",
        "    axes[1, 1].set_ylabel('Number of Flowers')\n",
        "    axes[1, 1].tick_params(axis='x', rotation=0)\n",
        "    axes[1, 1].grid(True, alpha=0.3)\n",
        "else:\n",
        "    # Alternative: petal length vs petal width scatter\n",
        "    axes[1, 1].scatter(iris['petal_length'], iris['petal_width'], alpha=0.7, s=50)\n",
        "    axes[1, 1].set_title('Petal Length vs Petal Width')\n",
        "    axes[1, 1].set_xlabel('Petal Length (cm)')\n",
        "    axes[1, 1].set_ylabel('Petal Width (cm)')\n",
        "    axes[1, 1].grid(True, alpha=0.3)\n",
        "\n",
        "plt.tight_layout()\n",
        "plt.show()"
      ]
    },
    {
      "cell_type": "markdown",
      "metadata": {
        "id": "pCZJ65wCMzp6"
      },
      "source": [
        "**Upon Completion:**\n",
        "\n",
        "Execute all the cells, save and download the notebook and submit to Gradescope.\n"
      ]
    },
    {
      "cell_type": "markdown",
      "metadata": {
        "id": "iYvMAqYIMzp6"
      },
      "source": [
        "## Recap\n",
        "\n",
        "In this section we got a first glimpse of the Pandas library.\n",
        "\n",
        "We learned how to:\n",
        "\n",
        "* load data from a CSV file\n",
        "* inspect the data\n",
        "* manipulate the data\n",
        "* plot the data\n",
        "* access rows and columns of the dataframe\n",
        "* filter the data\n",
        "* create new columns\n",
        "* group the data\n",
        "* compute the correlation between variables"
      ]
    }
  ],
  "metadata": {
    "colab": {
      "provenance": []
    },
    "kernelspec": {
      "display_name": "DS701",
      "language": "python",
      "name": "python3"
    },
    "language_info": {
      "codemirror_mode": {
        "name": "ipython",
        "version": 3
      },
      "file_extension": ".py",
      "mimetype": "text/x-python",
      "name": "python",
      "nbconvert_exporter": "python",
      "pygments_lexer": "ipython3",
      "version": "3.11.13"
    }
  },
  "nbformat": 4,
  "nbformat_minor": 0
}
